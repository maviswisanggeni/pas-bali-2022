{
 "cells": [
  {
   "cell_type": "markdown",
   "metadata": {},
   "source": [
    "### Week 3 Pre-Institute Exercise Documentation"
   ]
  },
  {
   "cell_type": "markdown",
   "metadata": {},
   "source": [
    "Verify installation of Python v. 3.4 in directory on personal computer where data and Jupyter Notebook will be stored, as well as verifying the correct version of Python."
   ]
  },
  {
   "cell_type": "code",
   "execution_count": 7,
   "metadata": {
    "collapsed": false
   },
   "outputs": [
    {
     "name": "stdout",
     "output_type": "stream",
     "text": [
      "C:\\Users\\Adam\\Documents\\GitHub\\DI-NEON-participants\\participants\\2017-RemoteSensing\\pre-institute3-Jupyter\n"
     ]
    }
   ],
   "source": [
    "cd C:\\Users\\Adam\\Documents\\GitHub\\DI-NEON-participants\\participants\\2017-RemoteSensing\\pre-institute3-Jupyter"
   ]
  },
  {
   "cell_type": "code",
   "execution_count": null,
   "metadata": {
    "collapsed": true
   },
   "outputs": [],
   "source": [
    "import sys"
   ]
  },
  {
   "cell_type": "code",
   "execution_count": null,
   "metadata": {
    "collapsed": false
   },
   "outputs": [],
   "source": [
    "sys.version"
   ]
  },
  {
   "cell_type": "markdown",
   "metadata": {},
   "source": [
    "Imported 'gdal' package from set-up instructions."
   ]
  },
  {
   "cell_type": "code",
   "execution_count": 8,
   "metadata": {
    "collapsed": false
   },
   "outputs": [],
   "source": [
    "import gdal"
   ]
  },
  {
   "cell_type": "markdown",
   "metadata": {},
   "source": [
    "Downloaded GeoTIFF to directory listed above.\n",
    "\n",
    "![download_image](https://user-images.githubusercontent.com/29215102/27060162-cc45466c-4f8f-11e7-8262-41748031a474.png)"
   ]
  },
  {
   "cell_type": "markdown",
   "metadata": {},
   "source": [
    "The commands below allow a user to open the GeoTIFF using GDAL and request information about the dimensions of the image. The lines initiated by \"Out\" indicate the results. In this case, the tiff is 1000 pixels x 1000 pixels."
   ]
  },
  {
   "cell_type": "code",
   "execution_count": 10,
   "metadata": {
    "collapsed": true
   },
   "outputs": [],
   "source": [
    "SJER_DTM_17 = gdal.Open('NEON_D17_SJER_DP3_252000_4109000_DTM.tif')"
   ]
  },
  {
   "cell_type": "code",
   "execution_count": 11,
   "metadata": {
    "collapsed": false
   },
   "outputs": [
    {
     "data": {
      "text/plain": [
       "1000"
      ]
     },
     "execution_count": 11,
     "metadata": {},
     "output_type": "execute_result"
    }
   ],
   "source": [
    "SJER_DTM_17.RasterXSize"
   ]
  },
  {
   "cell_type": "code",
   "execution_count": 12,
   "metadata": {
    "collapsed": false
   },
   "outputs": [
    {
     "data": {
      "text/plain": [
       "1000"
      ]
     },
     "execution_count": 12,
     "metadata": {},
     "output_type": "execute_result"
    }
   ],
   "source": [
    "SJER_DTM_17.RasterYSize"
   ]
  },
  {
   "cell_type": "code",
   "execution_count": 20,
   "metadata": {
    "collapsed": false
   },
   "outputs": [
    {
     "data": {
      "text/plain": [
       "'PROJCS[\"WGS 84 / UTM zone 11N\",GEOGCS[\"WGS 84\",DATUM[\"WGS_1984\",SPHEROID[\"WGS 84\",6378137,298.257223563,AUTHORITY[\"EPSG\",\"7030\"]],AUTHORITY[\"EPSG\",\"6326\"]],PRIMEM[\"Greenwich\",0],UNIT[\"degree\",0.0174532925199433],AUTHORITY[\"EPSG\",\"4326\"]],PROJECTION[\"Transverse_Mercator\"],PARAMETER[\"latitude_of_origin\",0],PARAMETER[\"central_meridian\",-117],PARAMETER[\"scale_factor\",0.9996],PARAMETER[\"false_easting\",500000],PARAMETER[\"false_northing\",0],UNIT[\"metre\",1,AUTHORITY[\"EPSG\",\"9001\"]],AUTHORITY[\"EPSG\",\"32611\"]]'"
      ]
     },
     "execution_count": 20,
     "metadata": {},
     "output_type": "execute_result"
    }
   ],
   "source": [
    "SJER_DTM_17.GetProjection()"
   ]
  },
  {
   "cell_type": "markdown",
   "metadata": {},
   "source": [
    "## Plotting in R"
   ]
  },
  {
   "cell_type": "markdown",
   "metadata": {
    "collapsed": false
   },
   "source": [
    "```{r}\n",
    "#load libraries necessary for plotting\n",
    "library(raster)\n",
    "library(sp)\n",
    "library(rgdal)\n",
    "\n",
    "#set working directory to directory where DTM is stored\n",
    "setwd(\"C:/Users/Adam/Documents/GitHub/DI-NEON-participants/participants/2017-RemoteSensing/pre-institute3-Jupyter\")\n",
    "\n",
    "#store raster file as object named \"wk3.raster\"\n",
    "wk3.raster <- raster(\"NEON_D17_SJER_DP3_252000_4109000_DTM.tif\")\n",
    "hs <- raster(\"sjer_hs.tif\")\n",
    "\n",
    "cellStats(wk3.raster, range)\n",
    "\n",
    "#set colors\n",
    "col=terrain.colors(30)\n",
    "\n",
    "#add breaks\n",
    "#brk <- c(250,260,270,280,290,300,310,320,330,340,350,360,370)\n",
    "\n",
    "#plot DTM\n",
    "plot(wk3.raster, main=\"Digital Terrain Model of SJER\", cex.axis=0.8, xlab=\"UTM Easting Coordinate\",\n",
    "ylab=\"UTM Northing Coordinate\")\n",
    "plot(hs, col=grey(1:100/100), alpha=0.4, legend=F, add=T)\n",
    "```"
   ]
  },
  {
   "cell_type": "markdown",
   "metadata": {},
   "source": [
    "![dtm_sjer](https://user-images.githubusercontent.com/29215102/27062323-1e08d8f6-4f9f-11e7-9ee2-997718abe4f3.jpeg)"
   ]
  },
  {
   "cell_type": "code",
   "execution_count": null,
   "metadata": {
    "collapsed": true
   },
   "outputs": [],
   "source": []
  }
 ],
 "metadata": {
  "kernelspec": {
   "display_name": "Python 3.4 NEON-RSDI",
   "language": "python",
   "name": "py34"
  },
  "language_info": {
   "codemirror_mode": {
    "name": "ipython",
    "version": 3
   },
   "file_extension": ".py",
   "mimetype": "text/x-python",
   "name": "python",
   "nbconvert_exporter": "python",
   "pygments_lexer": "ipython3",
   "version": "3.4.5"
  }
 },
 "nbformat": 4,
 "nbformat_minor": 2
}
