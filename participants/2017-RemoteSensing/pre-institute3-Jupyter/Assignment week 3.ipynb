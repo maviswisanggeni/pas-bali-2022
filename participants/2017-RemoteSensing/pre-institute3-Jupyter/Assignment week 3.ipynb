{
 "cells": [
  {
   "cell_type": "code",
   "execution_count": 7,
   "metadata": {
    "collapsed": false
   },
   "outputs": [
    {
     "data": {
      "text/plain": [
       "['',\n",
       " '/Users/sergiomarconi/anaconda3/lib/python35.zip',\n",
       " '/Users/sergiomarconi/anaconda3/lib/python3.5',\n",
       " '/Users/sergiomarconi/anaconda3/lib/python3.5/plat-darwin',\n",
       " '/Users/sergiomarconi/anaconda3/lib/python3.5/lib-dynload',\n",
       " '/Users/sergiomarconi/anaconda3/lib/python3.5/site-packages',\n",
       " '/Users/sergiomarconi/anaconda3/lib/python3.5/site-packages/Sphinx-1.4.6-py3.5.egg',\n",
       " '/Users/sergiomarconi/anaconda3/lib/python3.5/site-packages/aeosa',\n",
       " '/Users/sergiomarconi/anaconda3/lib/python3.5/site-packages/setuptools-27.2.0-py3.5.egg',\n",
       " '/Users/sergiomarconi/anaconda3/lib/python3.5/site-packages/IPython/extensions',\n",
       " '/Users/sergiomarconi/.ipython',\n",
       " '/usr/local/Cellar/gdal2/2.1.3_3']"
      ]
     },
     "execution_count": 7,
     "metadata": {},
     "output_type": "execute_result"
    }
   ],
   "source": [
    "# Check what version of Python.  Should be 3.4. \n",
    "import sys\n",
    "sys.version\n",
    "sys.path"
   ]
  },
  {
   "cell_type": "code",
   "execution_count": 8,
   "metadata": {
    "collapsed": true
   },
   "outputs": [],
   "source": [
    "sys.path.append(\"/usr/local/Cellar/gdal2/\")"
   ]
  },
  {
   "cell_type": "code",
   "execution_count": 12,
   "metadata": {
    "collapsed": false
   },
   "outputs": [],
   "source": [
    "import gdal"
   ]
  },
  {
   "cell_type": "code",
   "execution_count": null,
   "metadata": {
    "collapsed": true
   },
   "outputs": [],
   "source": [
    "# What's going on\n",
    "### once gdal is actually working\n",
    "here we are testing the python notebook environment. We are testing GDAL, for it may have trouble installing on some machines, especially under macOs.\n",
    "### Import DEM"
   ]
  },
  {
   "cell_type": "code",
   "execution_count": 14,
   "metadata": {
    "collapsed": false
   },
   "outputs": [],
   "source": [
    "SJER_DTM_17 = gdal.Open('NEON_D17_SJER_DP3_252000_4109000_DTM.tif')\n"
   ]
  },
  {
   "cell_type": "code",
   "execution_count": 15,
   "metadata": {
    "collapsed": false
   },
   "outputs": [
    {
     "data": {
      "text/plain": [
       "1000"
      ]
     },
     "execution_count": 15,
     "metadata": {},
     "output_type": "execute_result"
    }
   ],
   "source": [
    "SJER_DTM_17.RasterXSize"
   ]
  },
  {
   "cell_type": "code",
   "execution_count": null,
   "metadata": {
    "collapsed": true
   },
   "outputs": [],
   "source": []
  }
 ],
 "metadata": {
  "anaconda-cloud": {},
  "kernelspec": {
   "display_name": "Python 3.4 NEON-RSDI",
   "language": "python",
   "name": "py34"
  },
  "language_info": {
   "codemirror_mode": {
    "name": "ipython",
    "version": 3
   },
   "file_extension": ".py",
   "mimetype": "text/x-python",
   "name": "python",
   "nbconvert_exporter": "python",
   "pygments_lexer": "ipython3",
   "version": "3.5.2"
  }
 },
 "nbformat": 4,
 "nbformat_minor": 1
}
